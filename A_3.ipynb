{
 "cells": [
  {
   "cell_type": "markdown",
   "metadata": {},
   "source": [
    "# Actividad Guiada 3\n",
    "\n",
    "### Extra Realizado"
   ]
  },
  {
   "cell_type": "code",
   "execution_count": 3,
   "metadata": {},
   "outputs": [
    {
     "name": "stdout",
     "output_type": "stream",
     "text": [
      "Costo de arista: 15\n"
     ]
    }
   ],
   "source": [
    "import urllib.request\n",
    "import tsplib95\n",
    "import math\n",
    "import random\n",
    "import gzip\n",
    "\n",
    "file = \"swiss42.tsp\"\n",
    "\n",
    "problem = tsplib95.load(file)\n",
    "\n",
    "Nodes = list(problem.get_nodes())\n",
    "Edges = list(problem.get_edges())\n",
    "\n",
    "# prueba de librería\n",
    "\n",
    "print(\"Costo de arista: \"+str(problem.get_weight(0, 1)))\n"
   ]
  },
  {
   "cell_type": "markdown",
   "metadata": {},
   "source": [
    "## Creación de Funciones\n"
   ]
  },
  {
   "cell_type": "code",
   "execution_count": 4,
   "metadata": {},
   "outputs": [],
   "source": [
    "def cr_sol(Nodes):\n",
    "    sol = [Nodes[0]]\n",
    "    for n in Nodes[1:]:\n",
    "        sol = sol+[random.choice(list(set(Nodes)-set({Nodes[0]})-set(sol)))]\n",
    "    return sol\n",
    "\n",
    "\n",
    "def distance(a, b, problem):\n",
    "    return problem.get_weight(a, b)\n",
    "\n",
    "\n",
    "def total_distance(sol, problem):\n",
    "    total_distance = 0\n",
    "    for i in range(len(sol)-1):\n",
    "        total_distance += distance(sol[i], sol[i+1], problem)\n",
    "    return total_distance+distance(sol[len(sol)-1], sol[0], problem)\n"
   ]
  },
  {
   "cell_type": "markdown",
   "metadata": {},
   "source": [
    "## Búsqueda Aleatoria\n"
   ]
  },
  {
   "cell_type": "code",
   "execution_count": 5,
   "metadata": {},
   "outputs": [
    {
     "name": "stdout",
     "output_type": "stream",
     "text": [
      "Mejor Solución:  [0, 30, 37, 26, 21, 40, 27, 38, 41, 20, 15, 25, 12, 18, 4, 3, 32, 1, 17, 36, 35, 7, 8, 23, 22, 39, 9, 11, 29, 13, 19, 31, 16, 6, 14, 5, 2, 28, 10, 24, 33, 34]\n",
      "Mejor Distancia:  3533\n"
     ]
    }
   ],
   "source": [
    "def random_search(problem, N):\n",
    "    nodes = list(problem.get_nodes())\n",
    "\n",
    "    b_sol = []\n",
    "    b_dis = float('inf')\n",
    "\n",
    "    for i in range(N):\n",
    "        sol = cr_sol(nodes)\n",
    "        dis = total_distance(sol, problem)\n",
    "        if dis < b_dis:\n",
    "            b_sol = sol\n",
    "            b_dis = dis\n",
    "\n",
    "    print(\"Mejor Solución: \", b_sol)\n",
    "    print(\"Mejor Distancia: \", b_dis)\n",
    "\n",
    "    return b_sol\n",
    "\n",
    "\n",
    "sol = random_search(problem, 10000)\n"
   ]
  },
  {
   "cell_type": "code",
   "execution_count": null,
   "metadata": {},
   "outputs": [],
   "source": []
  },
  {
   "cell_type": "markdown",
   "metadata": {},
   "source": [
    "## Búsqueda Local\n"
   ]
  },
  {
   "cell_type": "code",
   "execution_count": 6,
   "metadata": {},
   "outputs": [
    {
     "name": "stdout",
     "output_type": "stream",
     "text": [
      "Distancia Solucion Incial: 3533\n",
      "Distancia Mejor Solucion Local:  3244\n"
     ]
    }
   ],
   "source": [
    "def gen_n(sol):\n",
    "\n",
    "    b_sol = []\n",
    "    b_dis = float('inf')\n",
    "\n",
    "    for i in range(1, len(sol)-1):\n",
    "        for j in range(i+1, len(sol)):\n",
    "            s_nr = sol[:i]+[sol[j]]+sol[i+1:j]+[sol[i]]+sol[j+1:]\n",
    "\n",
    "            dis_nr = total_distance(s_nr, problem)\n",
    "\n",
    "            if dis_nr < b_dis:\n",
    "                b_dis = dis_nr\n",
    "                b_sol = s_nr\n",
    "    return b_sol\n",
    "\n",
    "\n",
    "print(\"Distancia Solucion Incial:\", total_distance(sol, problem))\n",
    "\n",
    "n_sol = gen_n(sol)\n",
    "\n",
    "print(\"Distancia Mejor Solucion Local: \", total_distance(n_sol, problem))\n"
   ]
  },
  {
   "cell_type": "code",
   "execution_count": 7,
   "metadata": {},
   "outputs": [
    {
     "name": "stdout",
     "output_type": "stream",
     "text": [
      "En la iteracion  35 , la mejor solución encontrada es: [0, 23, 40, 24, 38, 22, 39, 21, 9, 2, 27, 3, 4, 8, 41, 10, 25, 11, 12, 13, 19, 14, 16, 15, 37, 7, 1, 32, 30, 29, 28, 6, 18, 26, 5, 17, 31, 36, 35, 33, 34, 20]\n",
      "Distancia     : 1794\n"
     ]
    }
   ],
   "source": [
    "# local search\n",
    "\n",
    "def local_search(problem):\n",
    "\n",
    "    b_sol = []\n",
    "    ref_sol = cr_sol(Nodes)\n",
    "    b_dis = total_distance(ref_sol, problem)\n",
    "\n",
    "    it = 0\n",
    "\n",
    "    while (1):\n",
    "\n",
    "        it += 1\n",
    "\n",
    "        nr = gen_n(ref_sol)\n",
    "\n",
    "        nr_dis = total_distance(nr, problem)\n",
    "\n",
    "        if nr_dis < b_dis:\n",
    "            b_sol = nr\n",
    "            b_dis = nr_dis\n",
    "        else:\n",
    "            print(\"En la iteracion \", it,\n",
    "                  \", la mejor solución encontrada es:\", b_sol)\n",
    "            print(\"Distancia     :\", b_dis)\n",
    "            return b_sol\n",
    "\n",
    "        ref_sol = nr\n",
    "\n",
    "\n",
    "sol = local_search(problem)\n"
   ]
  },
  {
   "cell_type": "markdown",
   "metadata": {},
   "source": [
    "## Mejora de alogoritmo:\n",
    "Complejidad del Algoritmo: $n^{2}$\n",
    "\n",
    "Mejora: Multiarranque con busqueda de mejores soluciones aleatorias.\n"
   ]
  },
  {
   "cell_type": "code",
   "execution_count": 8,
   "metadata": {},
   "outputs": [
    {
     "name": "stdout",
     "output_type": "stream",
     "text": [
      "Distancia inicial:  5119\n",
      "Conjuntos de Distancias:  [1856, 1929, 1922, 1997, 1794, 1849, 1856, 1659, 1548, 1669, 1744, 1900, 1487, 1671, 2172, 1901, 1618, 1900, 1624, 1818, 1740, 1830, 1644, 1884]\n",
      "Mejor Distancia:  1487\n",
      "Mejor Solucion:  [0, 27, 2, 28, 30, 38, 22, 24, 40, 21, 39, 9, 23, 41, 8, 29, 34, 33, 20, 32, 1, 6, 7, 31, 35, 36, 17, 37, 15, 16, 14, 19, 13, 5, 26, 18, 10, 25, 11, 12, 4, 3]\n",
      "Número de soluciones aleatorias nuevas:  24\n"
     ]
    }
   ],
   "source": [
    "import time  #libreria para detener nuestro algoritmo en función del tiempo.\n",
    "\n",
    "def better_local_search(problem):\n",
    "\n",
    "    b_sol = []\n",
    "    ref_sol = cr_sol(Nodes)\n",
    "    b_dis = total_distance(ref_sol, problem)\n",
    "    b_dis_0=b_dis #variable para guardar la distancia aleatoria inicial.\n",
    "    print(\"Distancia inicial: \",b_dis_0) # se imprime la misma\n",
    "\n",
    "    sol_sets = [] \n",
    "    dis_sets = []\n",
    "\n",
    "    it = 0\n",
    "    it_2=0\n",
    "\n",
    "    a = True # variable booleana que permitira ingresar en un proceso de multiarranque.\n",
    "    rn=0\n",
    "    #Tiempos en los cuales se detendran los algoritmos:\n",
    "    timeout=time.time()+60*1.5 \n",
    "    timeout_2=time.time()+5\n",
    "\n",
    "\n",
    "    while (1):\n",
    "\n",
    "        it += 1\n",
    "\n",
    "        nr = gen_n(ref_sol)\n",
    "\n",
    "        nr_dis = total_distance(nr, problem)\n",
    "\n",
    "        if nr_dis < b_dis:\n",
    "            b_sol = nr\n",
    "            b_dis = nr_dis\n",
    "        else:\n",
    "            sol_sets.append(b_sol) # variables para guardar cada solucion con cada nuevo arranque iniciado\n",
    "            dis_sets.append(b_dis)\n",
    "            a = False  #se cambia el valor de la variable para ingresar en el proceso de multiarranque.\n",
    "\n",
    "        if (it > 1000 or time.time()>timeout): #condición para detener el algoritmo despues de minuto y medio\n",
    "            m=min(dis_sets) # obtención de la mínima distancia del grupo de distancias obtenidas.\n",
    "            ## IMPRESIÓN DE RESULTADOS:\n",
    "            print(\"Conjuntos de Distancias: \",dis_sets)\n",
    "            print(\"Mejor Distancia: \", m)\n",
    "            print(\"Mejor Solucion: \", sol_sets[dis_sets.index(m)])\n",
    "            print(\"Número de soluciones aleatorias nuevas: \",rn)\n",
    "            return b_sol\n",
    "\n",
    "        if a == True:\n",
    "            ref_sol = nr  # se ejecuta mientras sea posible encontrar una solucion mejor en la busqueda local.\n",
    "        else:\n",
    "           \n",
    "            while (1):\n",
    "              ref_sol = cr_sol(Nodes)\n",
    "              b_dis = total_distance(ref_sol, problem)\n",
    "              it_2+=1\n",
    "              if b_dis<b_dis_0: #condición para encontrar una mejor solucion aleatoria entre las soluciones aleatorias encontradas anteriormente\n",
    "                  b_dis_0=b_dis\n",
    "                  break\n",
    "              if time.time()>timeout_2:\n",
    "                  timeout_2=time.time()+5 #condición de parada por tiempo cuando ya no se encuentran mejores soluciones aleatorias (5 segundos)\n",
    "                  break\n",
    "\n",
    "            rn+=1\n",
    "            a = True\n",
    "\n",
    "\n",
    "sol = better_local_search(problem)\n"
   ]
  }
 ],
 "metadata": {
  "kernelspec": {
   "display_name": "Python 3",
   "language": "python",
   "name": "python3"
  },
  "language_info": {
   "codemirror_mode": {
    "name": "ipython",
    "version": 3
   },
   "file_extension": ".py",
   "mimetype": "text/x-python",
   "name": "python",
   "nbconvert_exporter": "python",
   "pygments_lexer": "ipython3",
   "version": "3.10.6"
  },
  "orig_nbformat": 4
 },
 "nbformat": 4,
 "nbformat_minor": 2
}
