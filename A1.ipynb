{
 "cells": [
  {
   "attachments": {},
   "cell_type": "markdown",
   "metadata": {},
   "source": [
    "## Resolución Torres de Hanoi"
   ]
  },
  {
   "cell_type": "code",
   "execution_count": 1,
   "metadata": {},
   "outputs": [
    {
     "name": "stdout",
     "output_type": "stream",
     "text": [
      "Mover bloque desde 1 a 2\n",
      "Mover bloque desde 1 a 3\n",
      "Mover bloque desde 2 a 3\n",
      "Mover bloque desde 1 a 2\n",
      "Mover bloque desde 3 a 1\n",
      "Mover bloque desde 3 a 2\n",
      "Mover bloque desde 1 a 2\n",
      "Mover bloque desde 1 a 3\n",
      "Mover bloque desde 2 a 3\n",
      "Mover bloque desde 2 a 1\n",
      "Mover bloque desde 3 a 1\n",
      "Mover bloque desde 2 a 3\n",
      "Mover bloque desde 1 a 2\n",
      "Mover bloque desde 1 a 3\n",
      "Mover bloque desde 2 a 3\n"
     ]
    }
   ],
   "source": [
    "def torres_hanoi(N, origen, destino, pivote):\n",
    "    if N == 1:\n",
    "        print(f\"Mover bloque desde {origen} a {destino}\")\n",
    "        return\n",
    "\n",
    "    torres_hanoi(N-1, origen, pivote, destino)\n",
    "\n",
    "    print(f\"Mover bloque desde {origen} a {destino}\")\n",
    "\n",
    "    torres_hanoi(N-1, pivote, destino, origen)\n",
    "\n",
    "\n",
    "torres_hanoi(4,1,3,2)\n"
   ]
  },
  {
   "attachments": {},
   "cell_type": "markdown",
   "metadata": {},
   "source": [
    "## Sistema de devolución de cambio:"
   ]
  },
  {
   "cell_type": "code",
   "execution_count": 1,
   "metadata": {},
   "outputs": [
    {
     "data": {
      "text/plain": [
       "array([2., 0., 0., 4.])"
      ]
     },
     "execution_count": 1,
     "metadata": {},
     "output_type": "execute_result"
    }
   ],
   "source": [
    "from numpy import zeros\n",
    "\n",
    "def cambio_monedas(q,sm):\n",
    "\n",
    "    n=len(sm)\n",
    "\n",
    "    sol=zeros(n)\n",
    "\n",
    "    val_a=0\n",
    "\n",
    "    for i in range(0,n):\n",
    "        monedas=int((q-val_a)/sm[i])\n",
    "        sol[i]=monedas\n",
    "        val_a+=monedas*sm[i]\n",
    "        if val_a==q:\n",
    "            break;\n",
    "\n",
    "    return sol\n",
    "\n",
    "SISTEMA=[25,10,5,1]\n",
    "\n",
    "cambio_monedas(54,SISTEMA)"
   ]
  },
  {
   "cell_type": "code",
   "execution_count": 10,
   "metadata": {},
   "outputs": [
    {
     "name": "stdout",
     "output_type": "stream",
     "text": [
      "0.5\n",
      "3\n"
     ]
    }
   ],
   "source": [
    "import random\n",
    "import math\n",
    "\n",
    "List_1D = [random.randrange(1, 10000) for x in range(1000)]\n",
    "\n",
    "List_2D = [(random.randrange(1, 10000), random.randrange(1, 10000))\n",
    "            for x in range(1000)]\n",
    "\n",
    "List_test = [5, 8, 10, 12, 13, 20,6,6.5]\n",
    "\n",
    "\n",
    "def alg_v_2(list):\n",
    "    n = len(list)\n",
    "    b = 1e10\n",
    "\n",
    "    for i in range(n):\n",
    "        for j in range(i+1, n):       \n",
    "            a = math.sqrt(((list[i][0]-list[j][0])**2)+((list[i][1]-list[j][1])**2))\n",
    "            if a < b and list[i] != list[j]:\n",
    "                b = a\n",
    "    print('{0:.3g}'.format(b))\n",
    "\n",
    "\n",
    "def alg_v(list):\n",
    "    n = len(list)\n",
    "    b=1e10\n",
    "\n",
    "    for i in range(n):\n",
    "        for j in range(i+1,n):\n",
    "            a=abs(list[i]-list[j])\n",
    "            if a<b and list[i]!=list[j]:\n",
    "                b=a\n",
    "    \n",
    "    print(b)\n",
    "\n",
    "\n",
    "alg_v(List_test)\n",
    "alg_v_2(List_2D)\n",
    "        \n",
    "\n",
    "\n",
    "\n",
    "    \n",
    "\n"
   ]
  },
  {
   "cell_type": "code",
   "execution_count": null,
   "metadata": {},
   "outputs": [],
   "source": []
  }
 ],
 "metadata": {
  "kernelspec": {
   "display_name": "Python 3",
   "language": "python",
   "name": "python3"
  },
  "language_info": {
   "codemirror_mode": {
    "name": "ipython",
    "version": 3
   },
   "file_extension": ".py",
   "mimetype": "text/x-python",
   "name": "python",
   "nbconvert_exporter": "python",
   "pygments_lexer": "ipython3",
   "version": "3.10.6"
  },
  "orig_nbformat": 4
 },
 "nbformat": 4,
 "nbformat_minor": 2
}
